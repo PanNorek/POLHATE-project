{
 "cells": [
  {
   "cell_type": "code",
   "execution_count": 1,
   "metadata": {},
   "outputs": [],
   "source": [
    "import pandas as pd\n",
    "import numpy as np\n",
    "import matplotlib.pyplot as plt\n",
    "import seaborn as sns\n",
    "\n",
    "\n",
    "\n",
    "import string, re, emoji\n",
    "import itertools\n",
    "from collections import Counter\n",
    "from typing import Iterable, Any\n",
    "# Libraries for text preprocessing.\n",
    "\n",
    "import nltk\n",
    "# nltk.download('stopwords')\n",
    "# nltk.download('punkt')\n",
    "# nltk.download('averaged_perceptron_tagger')\n",
    "# nltk.download('wordnet')\n",
    "from nltk.corpus import stopwords\n",
    "from nltk.corpus import wordnet as wn\n",
    "from nltk.stem import WordNetLemmatizer\n",
    "from nltk.tokenize import word_tokenize\n",
    "from nltk.probability import FreqDist\n",
    "from wordcloud import WordCloud,STOPWORDS\n",
    "# Text Preprocessing\n",
    "import morfeusz2\n",
    "\n",
    "# Loading some sklearn packaces\n",
    "from sklearn.feature_extraction.text import CountVectorizer\n",
    "\n",
    "# Some packages for word clouds and NER.\n",
    "\n",
    "from wordcloud import WordCloud, STOPWORDS\n",
    "from collections import Counter, defaultdict\n",
    "from PIL import Image\n",
    "import spacy\n",
    "import morfeusz2\n",
    "import pl_core_news_md\n",
    "\n",
    "# Core packages for general use throughout the notebook.\n",
    "\n",
    "import random\n",
    "import warnings\n",
    "import time\n",
    "import datetime\n",
    "\n",
    "# For customizing our plots.\n",
    "\n",
    "from matplotlib.ticker import MaxNLocator\n",
    "import matplotlib.gridspec as gridspec\n",
    "import matplotlib.patches as mpatches\n",
    "\n",
    "\n",
    "\n",
    "# For building ML models\n",
    "from sklearn.model_selection import train_test_split\n",
    "from sklearn.preprocessing import LabelEncoder\n",
    "from sklearn.feature_extraction.text import TfidfVectorizer\n",
    "from sklearn.model_selection import train_test_split, GridSearchCV \n",
    "\n",
    "# models and validation\n",
    "from sklearn import naive_bayes, svm\n",
    "from sklearn import metrics\n",
    "\n",
    "\n",
    "#SMOTE\n",
    "from imblearn.over_sampling import SMOTE\n",
    "\n",
    "stop = set(stopwords.words('polish'))\n",
    "sns.set(font_scale=1.5)\n",
    "pd.options.display.max_columns = 250\n",
    "pd.options.display.max_rows = 250\n",
    "warnings.filterwarnings('ignore')\n"
   ]
  },
  {
   "cell_type": "code",
   "execution_count": 2,
   "metadata": {},
   "outputs": [],
   "source": [
    "DATAPATH = r'../../data/raw/train.tsv'\n",
    "STOPWORDS = r'E:\\coding\\pythonnew\\POLHATE-project\\data\\raw\\polish_stopwords.txt'"
   ]
  },
  {
   "cell_type": "code",
   "execution_count": 3,
   "metadata": {},
   "outputs": [
    {
     "data": {
      "text/html": [
       "<div>\n",
       "<style scoped>\n",
       "    .dataframe tbody tr th:only-of-type {\n",
       "        vertical-align: middle;\n",
       "    }\n",
       "\n",
       "    .dataframe tbody tr th {\n",
       "        vertical-align: top;\n",
       "    }\n",
       "\n",
       "    .dataframe thead th {\n",
       "        text-align: right;\n",
       "    }\n",
       "</style>\n",
       "<table border=\"1\" class=\"dataframe\">\n",
       "  <thead>\n",
       "    <tr style=\"text-align: right;\">\n",
       "      <th></th>\n",
       "      <th>sentence</th>\n",
       "      <th>target</th>\n",
       "    </tr>\n",
       "  </thead>\n",
       "  <tbody>\n",
       "    <tr>\n",
       "      <th>0</th>\n",
       "      <td>Dla mnie faworytem do tytułu będzie Cracovia. ...</td>\n",
       "      <td>0</td>\n",
       "    </tr>\n",
       "    <tr>\n",
       "      <th>1</th>\n",
       "      <td>@anonymized_account @anonymized_account Brawo ...</td>\n",
       "      <td>0</td>\n",
       "    </tr>\n",
       "    <tr>\n",
       "      <th>2</th>\n",
       "      <td>@anonymized_account @anonymized_account Super,...</td>\n",
       "      <td>0</td>\n",
       "    </tr>\n",
       "    <tr>\n",
       "      <th>3</th>\n",
       "      <td>@anonymized_account @anonymized_account Musi. ...</td>\n",
       "      <td>0</td>\n",
       "    </tr>\n",
       "    <tr>\n",
       "      <th>4</th>\n",
       "      <td>Odrzut natychmiastowy, kwaśna mina, mam problem</td>\n",
       "      <td>0</td>\n",
       "    </tr>\n",
       "  </tbody>\n",
       "</table>\n",
       "</div>"
      ],
      "text/plain": [
       "                                            sentence  target\n",
       "0  Dla mnie faworytem do tytułu będzie Cracovia. ...       0\n",
       "1  @anonymized_account @anonymized_account Brawo ...       0\n",
       "2  @anonymized_account @anonymized_account Super,...       0\n",
       "3  @anonymized_account @anonymized_account Musi. ...       0\n",
       "4    Odrzut natychmiastowy, kwaśna mina, mam problem       0"
      ]
     },
     "execution_count": 3,
     "metadata": {},
     "output_type": "execute_result"
    }
   ],
   "source": [
    "df = pd.read_csv(DATAPATH, delimiter = '\\t')\n",
    "df.head()"
   ]
  },
  {
   "cell_type": "markdown",
   "metadata": {},
   "source": [
    "# Preprocessing"
   ]
  },
  {
   "cell_type": "code",
   "execution_count": 4,
   "metadata": {},
   "outputs": [],
   "source": [
    "morf = morfeusz2.Morfeusz()\n",
    "\n",
    "def lowercase(text: str) -> str:\n",
    "    \"\"\"Converts letters in given text to lowercase.\n",
    "    Args:\n",
    "        text (str): Text to preprocess.\n",
    "    Returns:\n",
    "        preprocessedText (str): Lowercase text.\n",
    "\n",
    "    \"\"\"\n",
    "    preprocessedText = str.lower(text)\n",
    "    return  preprocessedText\n",
    "\n",
    "def remove_hashtags(text: str) -> str:\n",
    "    \"\"\"Removes hashtags from given tweet text.\n",
    "    Args:\n",
    "        text (str): Text to preprocess.\n",
    "    Returns:\n",
    "        preprocessedText (str): Text with no hashtags.\n",
    "\n",
    "    \"\"\"\n",
    "    preprocessedText = re.sub('#[a-zA-Z0-9_]+', '', text )\n",
    "\n",
    "    return preprocessedText\n",
    "\n",
    "def remove_mentions(text: str) -> str:\n",
    "    \"\"\"Removes mentions from given tweet text.\n",
    "    Args:\n",
    "        text (str): Text to preprocess.\n",
    "    Returns:\n",
    "        preprocessedText (str): Text with no mentions.\n",
    "\n",
    "    \"\"\"\n",
    "    preprocessedText = re.sub('@[a-zA-Z0-9_]+', '', text )\n",
    "\n",
    "    return preprocessedText\n",
    "\n",
    "def remove_punctuation(text: str) -> str:\n",
    "    \"\"\"Removes non text characters from given tweet text.\n",
    "    Args:\n",
    "        text (str): Text to preprocess.\n",
    "    Returns:\n",
    "        preprocessedText (str): Text with no non tex characters.\n",
    "\n",
    "    \"\"\"\n",
    "    preprocessedText = text.translate(str.maketrans('', '', string.punctuation))\n",
    "\n",
    "    return preprocessedText\n",
    "\n",
    "def remove_emoji(text):\n",
    "    emoji_pattern = re.compile(\n",
    "        '['\n",
    "        u'\\U0001F600-\\U0001F64F'  # emoticons\n",
    "        u'\\U0001F300-\\U0001F5FF'  # symbols & pictographs\n",
    "        u'\\U0001F680-\\U0001F6FF'  # transport & map symbols\n",
    "        u'\\U0001F1E0-\\U0001F1FF'  # flags (iOS)\n",
    "        u'\\U00002702-\\U000027B0'\n",
    "        u'\\U000024C2-\\U0001F251'\n",
    "        ']+',\n",
    "        flags=re.UNICODE)\n",
    "    return emoji_pattern.sub(r'', text)\n",
    "\n",
    "\n",
    "def lemmatize(text: str) -> str:\n",
    "    \"\"\"Lemmatizes polish text from given tweet.\n",
    "    Args:\n",
    "        text (str): Text to preprocess.\n",
    "    Returns:\n",
    "        lemmatizedText (str): Lemmatized text.\n",
    "\n",
    "    \"\"\"\n",
    "    wordList = text.split()\n",
    "    lemmatizedWordList = []\n",
    "\n",
    "    for word in wordList:    \n",
    "        _, _, interpretation = morf.analyse(word)[0]\n",
    "        lemWord = interpretation[1]\n",
    "        lemWordStripped = lemWord.split(':', 1)[0].lower()\n",
    "        lemmatizedWordList.append(lemWordStripped)\n",
    "\n",
    "    lemmatizedText = ' '.join(lemmatizedWordList)\n",
    "\n",
    "    return lemmatizedText\n",
    "\n",
    "def remove_html(text):\n",
    "    \"\"\"_summary_\n",
    "\n",
    "    Args:\n",
    "        text (_type_): _description_\n",
    "\n",
    "    Returns:\n",
    "        _type_: _description_\n",
    "    \"\"\"\n",
    "    html = re.compile(r'<.*?>|&([a-z0-9]+|#[0-9]{1,6}|#x[0-9a-f]{1,6});')\n",
    "    return re.sub(html, '', text)\n",
    "\n",
    "def remove_stopwords(text: str) -> str:\n",
    "    \"\"\"Removes stopwords.\n",
    "    Args:\n",
    "        text (str): Text to preprocess.\n",
    "    Returns:\n",
    "        preprocessedText (str): Text with no stopwords.\n",
    "\n",
    "    \"\"\"\n",
    "    wordList = text.split() \n",
    "    preprecessedWordList = []\n",
    "\n",
    "    stopWords = stopwords.words('polish')\n",
    "    # stopWords += ['rt']\n",
    "\n",
    "    for word in wordList:\n",
    "        if word not in stopWords:\n",
    "            preprecessedWordList.append(word)\n",
    "\n",
    "    preprocessedText = ' '.join(preprecessedWordList)\n",
    "\n",
    "    return preprocessedText"
   ]
  },
  {
   "cell_type": "code",
   "execution_count": 5,
   "metadata": {},
   "outputs": [],
   "source": [
    "# Remove blank rows if any.\n",
    "df['sentence'].dropna(inplace=True)\n",
    "\n",
    "# Applying helper functions\n",
    "\n",
    "df['text_clean'] = df['sentence'].apply(lambda x: lowercase(x))\n",
    "df['text_clean'] = df['text_clean'].apply(lambda x: remove_hashtags(x))\n",
    "df['text_clean'] = df['text_clean'].apply(lambda x: remove_mentions(x))\n",
    "df['text_clean'] = df['text_clean'].apply(lambda x: remove_emoji(x))\n",
    "df['text_clean'] = df['text_clean'].apply(lambda x: remove_html(x))\n",
    "df['text_clean'] = df['text_clean'].apply(lambda x: remove_punctuation(x))\n",
    "df['text_clean'] = df['text_clean'].apply(lambda x: lemmatize(x))\n",
    "df['text_clean'] = df['text_clean'].apply(lambda x: remove_stopwords(x))\n",
    "df['tokenized'] = [word_tokenize(entry) for entry in df['text_clean']]\n",
    "df['text_clean']= [str(word_tokenize(entry)) for entry in df['text_clean']]\n",
    "\n",
    "df['text_str'] = df['text_clean'].apply(lambda x: ' '.join(eval(x)))"
   ]
  },
  {
   "cell_type": "code",
   "execution_count": 6,
   "metadata": {},
   "outputs": [
    {
     "data": {
      "text/html": [
       "<div>\n",
       "<style scoped>\n",
       "    .dataframe tbody tr th:only-of-type {\n",
       "        vertical-align: middle;\n",
       "    }\n",
       "\n",
       "    .dataframe tbody tr th {\n",
       "        vertical-align: top;\n",
       "    }\n",
       "\n",
       "    .dataframe thead th {\n",
       "        text-align: right;\n",
       "    }\n",
       "</style>\n",
       "<table border=\"1\" class=\"dataframe\">\n",
       "  <thead>\n",
       "    <tr style=\"text-align: right;\">\n",
       "      <th></th>\n",
       "      <th>sentence</th>\n",
       "      <th>target</th>\n",
       "      <th>text_clean</th>\n",
       "      <th>tokenized</th>\n",
       "      <th>text_str</th>\n",
       "    </tr>\n",
       "  </thead>\n",
       "  <tbody>\n",
       "    <tr>\n",
       "      <th>0</th>\n",
       "      <td>Dla mnie faworytem do tytułu będzie Cracovia. ...</td>\n",
       "      <td>0</td>\n",
       "      <td>['faworyt', 'tytuł', 'cracovia', 'zobaczyć', '...</td>\n",
       "      <td>[faworyt, tytuł, cracovia, zobaczyć, typ, spra...</td>\n",
       "      <td>faworyt tytuł cracovia zobaczyć typ sprawdzić</td>\n",
       "    </tr>\n",
       "    <tr>\n",
       "      <th>1</th>\n",
       "      <td>@anonymized_account @anonymized_account Brawo ...</td>\n",
       "      <td>0</td>\n",
       "      <td>['brawo', 'daria', 'kibic', 'mieć', 'dobry', '...</td>\n",
       "      <td>[brawo, daria, kibic, mieć, dobry, zły]</td>\n",
       "      <td>brawo daria kibic mieć dobry zły</td>\n",
       "    </tr>\n",
       "    <tr>\n",
       "      <th>2</th>\n",
       "      <td>@anonymized_account @anonymized_account Super,...</td>\n",
       "      <td>0</td>\n",
       "      <td>['super', 'polski', 'premier', 'składać', 'kwi...</td>\n",
       "      <td>[super, polski, premier, składać, kwiat, grób,...</td>\n",
       "      <td>super polski premier składać kwiat grób kolabo...</td>\n",
       "    </tr>\n",
       "    <tr>\n",
       "      <th>3</th>\n",
       "      <td>@anonymized_account @anonymized_account Musi. ...</td>\n",
       "      <td>0</td>\n",
       "      <td>['musieć', 'drogi', 'mama']</td>\n",
       "      <td>[musieć, drogi, mama]</td>\n",
       "      <td>musieć drogi mama</td>\n",
       "    </tr>\n",
       "    <tr>\n",
       "      <th>4</th>\n",
       "      <td>Odrzut natychmiastowy, kwaśna mina, mam problem</td>\n",
       "      <td>0</td>\n",
       "      <td>['odrzut', 'natychmiastowy', 'kwaśny', 'mina',...</td>\n",
       "      <td>[odrzut, natychmiastowy, kwaśny, mina, mamić, ...</td>\n",
       "      <td>odrzut natychmiastowy kwaśny mina mamić problem</td>\n",
       "    </tr>\n",
       "  </tbody>\n",
       "</table>\n",
       "</div>"
      ],
      "text/plain": [
       "                                            sentence  target  \\\n",
       "0  Dla mnie faworytem do tytułu będzie Cracovia. ...       0   \n",
       "1  @anonymized_account @anonymized_account Brawo ...       0   \n",
       "2  @anonymized_account @anonymized_account Super,...       0   \n",
       "3  @anonymized_account @anonymized_account Musi. ...       0   \n",
       "4    Odrzut natychmiastowy, kwaśna mina, mam problem       0   \n",
       "\n",
       "                                          text_clean  \\\n",
       "0  ['faworyt', 'tytuł', 'cracovia', 'zobaczyć', '...   \n",
       "1  ['brawo', 'daria', 'kibic', 'mieć', 'dobry', '...   \n",
       "2  ['super', 'polski', 'premier', 'składać', 'kwi...   \n",
       "3                        ['musieć', 'drogi', 'mama']   \n",
       "4  ['odrzut', 'natychmiastowy', 'kwaśny', 'mina',...   \n",
       "\n",
       "                                           tokenized  \\\n",
       "0  [faworyt, tytuł, cracovia, zobaczyć, typ, spra...   \n",
       "1            [brawo, daria, kibic, mieć, dobry, zły]   \n",
       "2  [super, polski, premier, składać, kwiat, grób,...   \n",
       "3                              [musieć, drogi, mama]   \n",
       "4  [odrzut, natychmiastowy, kwaśny, mina, mamić, ...   \n",
       "\n",
       "                                            text_str  \n",
       "0      faworyt tytuł cracovia zobaczyć typ sprawdzić  \n",
       "1                   brawo daria kibic mieć dobry zły  \n",
       "2  super polski premier składać kwiat grób kolabo...  \n",
       "3                                  musieć drogi mama  \n",
       "4    odrzut natychmiastowy kwaśny mina mamić problem  "
      ]
     },
     "execution_count": 6,
     "metadata": {},
     "output_type": "execute_result"
    }
   ],
   "source": [
    "df.head()"
   ]
  },
  {
   "cell_type": "code",
   "execution_count": 7,
   "metadata": {},
   "outputs": [],
   "source": [
    "#Divide sets\n",
    "X_train, X_test, y_train, y_test = train_test_split(df[\"text_clean\"],df[\"target\"],test_size=.15)\n",
    "\n",
    "#Encode labels\n",
    "Encoder = LabelEncoder()\n",
    "Train_Y = Encoder.fit_transform(y_train)\n",
    "Test_Y = Encoder.fit_transform(y_test)\n",
    "Whole_Y = Encoder.fit_transform(df[\"target\"])\n",
    "\n",
    "# Convert a collection of raw documents to a matrix of TF-IDF features.\n",
    "Tfidf_vect = TfidfVectorizer(max_features=5000)\n",
    "Tfidf_vect.fit(df['text_clean'])\n",
    "Train_X_Tfidf = Tfidf_vect.transform(X_train)\n",
    "Test_X_Tfidf = Tfidf_vect.transform(X_test)\n",
    "Whole_X_Tfidf = Tfidf_vect.transform(df['text_clean'])"
   ]
  },
  {
   "cell_type": "markdown",
   "metadata": {},
   "source": [
    "# Machine Learning models"
   ]
  },
  {
   "cell_type": "code",
   "execution_count": 8,
   "metadata": {},
   "outputs": [],
   "source": [
    "from typing import Iterable\n",
    "\n",
    "\n",
    "def generate_perf_report(\n",
    "    X: Iterable,\n",
    "    y: Iterable,\n",
    "    *,\n",
    "    name: str = \"sample\",\n",
    "    description: str = \"no description\",\n",
    "    clf: Any = None,\n",
    "    date_fmt: str = \"%Y-%m-%d %H:%M:%S\",\n",
    "    test_size: float = 0.15,\n",
    ") -> pd.Series:\n",
    "    \"\"\"\n",
    "    Generate a report gathering main model classification metrics.\n",
    "\n",
    "    Parameters\n",
    "    ----------\n",
    "    X : iterable of shape (n_samples, n_features)\n",
    "        Sparse matrix of shape (n_samples, n_features).\n",
    "    y : iterable\n",
    "        Target values (class labels).\n",
    "    name : str\n",
    "        Name of the report, by default \"sample\".\n",
    "    description : str\n",
    "        Optional description for better understanding of the report.\n",
    "    clf : Any\n",
    "        Vector classification. Defaults to C-Support Vector Classification\n",
    "        (`sklearn.svm.SVC`).\n",
    "    test_size : float or int, default=0.15\n",
    "        See `sklearn.model_selection.train_test_split` documentation\n",
    "        for details on this parameter.\n",
    "    date_fmt : str, default=\"%Y-%m-%d %H:%M:%S\"\n",
    "        Date format.\n",
    "\n",
    "    Returns\n",
    "    -------\n",
    "    report : pd.Series\n",
    "        Report with specified name, date, description, test size,\n",
    "        precision score, recall score, f-measure, accuracy and ROC\n",
    "        AUC score in human-friendly format.\n",
    "    \"\"\"  # needs review\n",
    "    date = datetime.datetime.now().strftime(date_fmt)\n",
    "\n",
    "    clf = clf or svm.SVC()\n",
    "\n",
    "    X_train, X_test, y_train, y_test = train_test_split(X, y, test_size=test_size)\n",
    "\n",
    "    model = clf.fit(X_train, y_train)\n",
    "    predictions = model.predict(X_test)  # type: ignore\n",
    "\n",
    "    return pd.Series(\n",
    "        {\n",
    "            \"Date\": date,\n",
    "            \"Description\": description,\n",
    "            \"Test Size\": test_size,\n",
    "            \"Precision\": metrics.precision_score(y_test, predictions),\n",
    "            \"Recall\": metrics.recall_score(y_test, predictions),\n",
    "            # F-measure\n",
    "            \"F1 Score\": metrics.f1_score(y_test, predictions),\n",
    "            \"Accuracy\": metrics.accuracy_score(y_test, predictions),\n",
    "            # Area Under the Receiver Operating Characteristic Curve (ROC AUC)\n",
    "            \"Roc_auc_score\": metrics.roc_auc_score(y_test, predictions),\n",
    "            \"Confusion Matrix\": metrics.confusion_matrix(y_test, predictions),\n",
    "            \"Roc curve\": metrics.roc_curve(y_test, predictions),\n",
    "        },\n",
    "        name=name,\n",
    "    )\n"
   ]
  },
  {
   "cell_type": "markdown",
   "metadata": {},
   "source": [
    "# Naive Bayes"
   ]
  },
  {
   "cell_type": "code",
   "execution_count": 9,
   "metadata": {},
   "outputs": [
    {
     "name": "stdout",
     "output_type": "stream",
     "text": [
      "Naive Bayes Accuracy Score ->  92.10351692103517\n"
     ]
    }
   ],
   "source": [
    "Naive = naive_bayes.MultinomialNB()\n",
    "Naive.fit(Train_X_Tfidf,Train_Y)\n",
    "# predict the labels on validation dataset\n",
    "predictions_NB = Naive.predict(Test_X_Tfidf)\n",
    "# Use accuracy_score function to get the accuracy\n",
    "print(\"Naive Bayes Accuracy Score -> \",metrics.accuracy_score(predictions_NB, Test_Y)*100)"
   ]
  },
  {
   "cell_type": "code",
   "execution_count": 10,
   "metadata": {},
   "outputs": [
    {
     "name": "stdout",
     "output_type": "stream",
     "text": [
      "Model test:\n",
      "\t\tPrec: 0.8888888888888888         \n",
      "\t\t Rec: 0.06349206349206349         \n",
      "\t\t F1: 0.11851851851851852         \n",
      "\t\t Acc: 0.9210351692103517\n"
     ]
    },
    {
     "data": {
      "image/png": "[encoded data removed]",
      "text/plain": [
       "<Figure size 360x360 with 1 Axes>"
      ]
     },
     "metadata": {
      "needs_background": "light"
     },
     "output_type": "display_data"
    }
   ],
   "source": [
    "print('Model test:')\n",
    "\n",
    "print(f'\\t\\tPrec: {metrics.precision_score(Test_Y, predictions_NB)} \\\n",
    "        \\n\\t\\t Rec: {metrics.recall_score(Test_Y, predictions_NB)} \\\n",
    "        \\n\\t\\t F1: {metrics.f1_score(Test_Y, predictions_NB)} \\\n",
    "        \\n\\t\\t Acc: {metrics.accuracy_score(Test_Y, predictions_NB)}')\n",
    "\n",
    "# ROC curve\n",
    "fpr, tpr, thresholds = metrics.roc_curve(Test_Y, predictions_NB)\n",
    "roc_auc = metrics.auc(fpr, tpr)\n",
    "plt.figure(figsize=(5, 5))\n",
    "plt.axis('equal')\n",
    "plt.plot(fpr, tpr, lw=2, label=\"AUC = %0.2f\" % roc_auc)\n",
    "plt.plot([0, 1], [0, 1], color=\"gray\", lw=2, linestyle=\"--\")\n",
    "plt.xlim([0.0, 1.0])\n",
    "plt.ylim([0.0, 1.05])\n",
    "plt.xlabel(\"False Positive Rate\")\n",
    "plt.ylabel(\"True Positive Rate\")\n",
    "plt.legend(loc=\"lower right\")\n",
    "plt.show()"
   ]
  },
  {
   "cell_type": "code",
   "execution_count": 11,
   "metadata": {},
   "outputs": [
    {
     "data": {
      "text/plain": [
       "<sklearn.metrics._plot.confusion_matrix.ConfusionMatrixDisplay at 0x126a1cb2be0>"
      ]
     },
     "execution_count": 11,
     "metadata": {},
     "output_type": "execute_result"
    },
    {
     "data": {
      "image/png": "[encoded data removed]",
      "text/plain": [
       "<Figure size 432x288 with 2 Axes>"
      ]
     },
     "metadata": {
      "needs_background": "light"
     },
     "output_type": "display_data"
    }
   ],
   "source": [
    "cm = metrics.confusion_matrix(Test_Y, predictions_NB, labels=Naive.classes_)\n",
    "disp = metrics.ConfusionMatrixDisplay(confusion_matrix=cm,\n",
    "                              display_labels=Naive.classes_)\n",
    "disp.plot()"
   ]
  },
  {
   "cell_type": "code",
   "execution_count": 12,
   "metadata": {},
   "outputs": [],
   "source": [
    "naive = generate_perf_report(\n",
    "    Whole_X_Tfidf,\n",
    "    Whole_Y,\n",
    "    name='NaiveBayes',\n",
    "    description='basic NB classifier',\n",
    "    clf=naive_bayes.MultinomialNB()\n",
    "     )"
   ]
  },
  {
   "cell_type": "markdown",
   "metadata": {},
   "source": [
    "# SVM"
   ]
  },
  {
   "cell_type": "code",
   "execution_count": 13,
   "metadata": {},
   "outputs": [
    {
     "name": "stdout",
     "output_type": "stream",
     "text": [
      "SVM Accuracy Score ->  92.83344392833443\n"
     ]
    }
   ],
   "source": [
    "# Classifier - Algorithm - SVM\n",
    "# fit the training dataset on the classifier\n",
    "SVM = svm.SVC()\n",
    "SVM.fit(Train_X_Tfidf,Train_Y)\n",
    "# predict the labels on validation dataset\n",
    "predictions_SVM = SVM.predict(Test_X_Tfidf)\n",
    "# Use accuracy_score function to get the accuracy\n",
    "print(\"SVM Accuracy Score -> \",metrics.accuracy_score(predictions_SVM, Test_Y)*100)"
   ]
  },
  {
   "cell_type": "code",
   "execution_count": 14,
   "metadata": {},
   "outputs": [
    {
     "name": "stdout",
     "output_type": "stream",
     "text": [
      "Model test:\n",
      "\t\tPrec: 0.95         \n",
      "\t\t Rec: 0.15079365079365079         \n",
      "\t\t F1: 0.26027397260273977         \n",
      "\t\t Acc: 0.9283344392833444         \n",
      "\t\t ROC_AUC: 0.5750347689160143\n"
     ]
    },
    {
     "data": {
      "image/png": "[encoded data removed]",
      "text/plain": [
       "<Figure size 360x360 with 1 Axes>"
      ]
     },
     "metadata": {
      "needs_background": "light"
     },
     "output_type": "display_data"
    }
   ],
   "source": [
    "print('Model test:')\n",
    "\n",
    "print(f'\\t\\tPrec: {metrics.precision_score(Test_Y, predictions_SVM)} \\\n",
    "        \\n\\t\\t Rec: {metrics.recall_score(Test_Y, predictions_SVM)} \\\n",
    "        \\n\\t\\t F1: {metrics.f1_score(Test_Y, predictions_SVM)} \\\n",
    "        \\n\\t\\t Acc: {metrics.accuracy_score(Test_Y, predictions_SVM)} \\\n",
    "        \\n\\t\\t ROC_AUC: {metrics.roc_auc_score(Test_Y, predictions_SVM)}')\n",
    "\n",
    "# ROC curve\n",
    "fpr, tpr, thresholds = metrics.roc_curve(Test_Y, predictions_SVM)\n",
    "roc_auc = metrics.auc(fpr, tpr)\n",
    "plt.figure(figsize=(5, 5))\n",
    "plt.axis('equal')\n",
    "plt.plot(fpr, tpr, lw=2, label=\"AUC = %0.2f\" % roc_auc)\n",
    "plt.plot([0, 1], [0, 1], color=\"gray\", lw=2, linestyle=\"--\")\n",
    "plt.xlim([0.0, 1.0])\n",
    "plt.ylim([0.0, 1.05])\n",
    "plt.xlabel(\"False Positive Rate\")\n",
    "plt.ylabel(\"True Positive Rate\")\n",
    "plt.legend(loc=\"lower right\")\n",
    "plt.show()"
   ]
  },
  {
   "cell_type": "code",
   "execution_count": 15,
   "metadata": {},
   "outputs": [
    {
     "data": {
      "text/plain": [
       "<sklearn.metrics._plot.confusion_matrix.ConfusionMatrixDisplay at 0x126c91bc730>"
      ]
     },
     "execution_count": 15,
     "metadata": {},
     "output_type": "execute_result"
    },
    {
     "data": {
      "image/png": "[encoded data removed]",
      "text/plain": [
       "<Figure size 432x288 with 2 Axes>"
      ]
     },
     "metadata": {
      "needs_background": "light"
     },
     "output_type": "display_data"
    }
   ],
   "source": [
    "cm = metrics.confusion_matrix(Test_Y, predictions_SVM, labels=SVM.classes_)\n",
    "disp = metrics.ConfusionMatrixDisplay(confusion_matrix=cm,\n",
    "                              display_labels=SVM.classes_)\n",
    "disp.plot()"
   ]
  },
  {
   "cell_type": "code",
   "execution_count": 16,
   "metadata": {},
   "outputs": [],
   "source": [
    "svc = generate_perf_report(\n",
    "    Whole_X_Tfidf,\n",
    "    Whole_Y,\n",
    "    name='SVC',\n",
    "    description='basic SVM',\n",
    "    clf=svm.SVC()\n",
    "     )"
   ]
  },
  {
   "cell_type": "markdown",
   "metadata": {},
   "source": [
    "As we see, unbalanced data is not our friend."
   ]
  },
  {
   "cell_type": "markdown",
   "metadata": {},
   "source": [
    "# Synthetic Minority Oversampling Technique"
   ]
  },
  {
   "cell_type": "markdown",
   "metadata": {},
   "source": [
    "https://arxiv.org/abs/2008.04636\n",
    "<br> \"...In most\n",
    "cases, the use of oversampling techniques can significantly improve the\n",
    "quality of classification.\""
   ]
  },
  {
   "cell_type": "markdown",
   "metadata": {},
   "source": [
    "# Oversampling"
   ]
  },
  {
   "cell_type": "code",
   "execution_count": 17,
   "metadata": {},
   "outputs": [],
   "source": [
    "X = df['text_clean'].copy()\n",
    "y = df['target'].copy()"
   ]
  },
  {
   "cell_type": "code",
   "execution_count": 18,
   "metadata": {},
   "outputs": [],
   "source": [
    "# Convert a collection of raw documents to a matrix of TF-IDF features.\n",
    "Tfidf_vect = TfidfVectorizer(max_features=5000)\n",
    "X = Tfidf_vect.fit_transform(X)"
   ]
  },
  {
   "cell_type": "code",
   "execution_count": 19,
   "metadata": {},
   "outputs": [
    {
     "name": "stdout",
     "output_type": "stream",
     "text": [
      "Counter({0: 9190, 1: 851})\n"
     ]
    }
   ],
   "source": [
    "# summarize class distribution\n",
    "counter = Counter(y)\n",
    "print(counter)"
   ]
  },
  {
   "cell_type": "code",
   "execution_count": 20,
   "metadata": {},
   "outputs": [],
   "source": [
    "oversample = SMOTE()\n",
    "X, y = oversample.fit_resample(X, y)"
   ]
  },
  {
   "cell_type": "code",
   "execution_count": 21,
   "metadata": {},
   "outputs": [
    {
     "name": "stdout",
     "output_type": "stream",
     "text": [
      "Counter({0: 9190, 1: 9190})\n"
     ]
    }
   ],
   "source": [
    "counter = Counter(y)\n",
    "print(counter)"
   ]
  },
  {
   "cell_type": "code",
   "execution_count": 22,
   "metadata": {},
   "outputs": [],
   "source": [
    "#Divide sets\n",
    "X_train, X_test, y_train, y_test = train_test_split(X, y, test_size=.15)\n",
    "\n",
    "#Encode labels\n",
    "# Encoder = LabelEncoder()\n",
    "# Train_Y = Encoder.fit_transform(y_train)\n",
    "# Test_Y = Encoder.fit_transform(y_test)\n"
   ]
  },
  {
   "cell_type": "markdown",
   "metadata": {},
   "source": [
    "### Naive Bayes"
   ]
  },
  {
   "cell_type": "code",
   "execution_count": 23,
   "metadata": {},
   "outputs": [
    {
     "name": "stdout",
     "output_type": "stream",
     "text": [
      "Naive Bayes Accuracy Score ->  89.77149075081611\n"
     ]
    }
   ],
   "source": [
    "Naive = naive_bayes.MultinomialNB()\n",
    "Naive.fit(X_train,y_train)\n",
    "# predict the labels on validation dataset\n",
    "predictions_NB = Naive.predict(X_test)\n",
    "# Use accuracy_score function to get the accuracy\n",
    "print(\"Naive Bayes Accuracy Score -> \",metrics.accuracy_score(predictions_NB, y_test)*100)"
   ]
  },
  {
   "cell_type": "code",
   "execution_count": 24,
   "metadata": {},
   "outputs": [
    {
     "name": "stdout",
     "output_type": "stream",
     "text": [
      "Model test:\n",
      "\t\tPrec: 0.8487555839183153         \n",
      "\t\t Rec: 0.9672727272727273         \n",
      "\t\t F1: 0.9041468388851123         \n",
      "\t\t Acc: 0.8977149075081611\n"
     ]
    },
    {
     "data": {
      "image/png": "[encoded data removed]",
      "text/plain": [
       "<Figure size 360x360 with 1 Axes>"
      ]
     },
     "metadata": {
      "needs_background": "light"
     },
     "output_type": "display_data"
    }
   ],
   "source": [
    "print('Model test:')\n",
    "\n",
    "print(f'\\t\\tPrec: {metrics.precision_score(y_test, predictions_NB)} \\\n",
    "        \\n\\t\\t Rec: {metrics.recall_score(y_test, predictions_NB)} \\\n",
    "        \\n\\t\\t F1: {metrics.f1_score(y_test, predictions_NB)} \\\n",
    "        \\n\\t\\t Acc: {metrics.accuracy_score(y_test, predictions_NB)}')\n",
    "\n",
    "# ROC curve\n",
    "fpr, tpr, thresholds = metrics.roc_curve(y_test, predictions_NB)\n",
    "roc_auc = metrics.auc(fpr, tpr)\n",
    "plt.figure(figsize=(5, 5))\n",
    "plt.axis('equal')\n",
    "plt.plot(fpr, tpr, lw=2, label=\"AUC = %0.2f\" % roc_auc)\n",
    "plt.plot([0, 1], [0, 1], color=\"gray\", lw=2, linestyle=\"--\")\n",
    "plt.xlim([0.0, 1.0])\n",
    "plt.ylim([0.0, 1.05])\n",
    "plt.xlabel(\"False Positive Rate\")\n",
    "plt.ylabel(\"True Positive Rate\")\n",
    "plt.legend(loc=\"lower right\")\n",
    "plt.show()"
   ]
  },
  {
   "cell_type": "code",
   "execution_count": 25,
   "metadata": {},
   "outputs": [
    {
     "data": {
      "text/plain": [
       "<sklearn.metrics._plot.confusion_matrix.ConfusionMatrixDisplay at 0x126c6ef8ac0>"
      ]
     },
     "execution_count": 25,
     "metadata": {},
     "output_type": "execute_result"
    },
    {
     "data": {
      "image/png": "[encoded data removed]",
      "text/plain": [
       "<Figure size 432x288 with 2 Axes>"
      ]
     },
     "metadata": {
      "needs_background": "light"
     },
     "output_type": "display_data"
    }
   ],
   "source": [
    "cm = metrics.confusion_matrix(y_test, predictions_NB, labels=Naive.classes_)\n",
    "disp = metrics.ConfusionMatrixDisplay(confusion_matrix=cm,\n",
    "                              display_labels=Naive.classes_)\n",
    "disp.plot()"
   ]
  },
  {
   "cell_type": "code",
   "execution_count": 26,
   "metadata": {},
   "outputs": [],
   "source": [
    "naive_oversampled = generate_perf_report(\n",
    "    X,\n",
    "    y,\n",
    "    name='NaiveBayesOversampled',\n",
    "    description='NB classifier with oversampling',\n",
    "    clf=naive_bayes.MultinomialNB()\n",
    "     )"
   ]
  },
  {
   "cell_type": "markdown",
   "metadata": {},
   "source": [
    "### SVM"
   ]
  },
  {
   "cell_type": "code",
   "execution_count": 35,
   "metadata": {},
   "outputs": [
    {
     "name": "stdout",
     "output_type": "stream",
     "text": [
      "SVM Accuracy Score ->  98.60650298606502\n"
     ]
    }
   ],
   "source": [
    "# Classifier - Algorithm - SVM\n",
    "# fit the training dataset on the classifier\n",
    "SVM = svm.SVC()\n",
    "SVM.fit(X_train, y_train)\n",
    "# predict the labels on validation dataset\n",
    "predictions_SVM = SVM.predict(Test_X_Tfidf)\n",
    "# Use accuracy_score function to get the accuracy on non oversampled data\n",
    "print(\"SVM Accuracy Score -> \",metrics.accuracy_score(predictions_SVM, Test_Y)*100)"
   ]
  },
  {
   "cell_type": "code",
   "execution_count": 36,
   "metadata": {},
   "outputs": [
    {
     "name": "stdout",
     "output_type": "stream",
     "text": [
      "SVM Accuracy Score ->  98.15016322089227\n"
     ]
    }
   ],
   "source": [
    "# Classifier - Algorithm - SVM\n",
    "# fit the training dataset on the classifier\n",
    "SVM = svm.SVC()\n",
    "SVM.fit(X_train, y_train)\n",
    "# predict the labels on validation dataset\n",
    "predictions_SVM = SVM.predict(X_test)\n",
    "# Use accuracy_score function to get the accuracy\n",
    "print(\"SVM Accuracy Score -> \",metrics.accuracy_score(predictions_SVM, y_test)*100)"
   ]
  },
  {
   "cell_type": "code",
   "execution_count": 37,
   "metadata": {},
   "outputs": [
    {
     "name": "stdout",
     "output_type": "stream",
     "text": [
      "Model test:\n",
      "\t\tPrec: 0.9668547249647391         \n",
      "\t\t Rec: 0.9970909090909091         \n",
      "\t\t F1: 0.9817400644468314         \n",
      "\t\t Acc: 0.9815016322089227         \n",
      "\t\t ROC_AUC: 0.981541113011446\n"
     ]
    },
    {
     "data": {
      "image/png": "[encoded data removed]",
      "text/plain": [
       "<Figure size 360x360 with 1 Axes>"
      ]
     },
     "metadata": {
      "needs_background": "light"
     },
     "output_type": "display_data"
    }
   ],
   "source": [
    "print('Model test:')\n",
    "\n",
    "print(f'\\t\\tPrec: {metrics.precision_score(y_test, predictions_SVM)} \\\n",
    "        \\n\\t\\t Rec: {metrics.recall_score(y_test, predictions_SVM)} \\\n",
    "        \\n\\t\\t F1: {metrics.f1_score(y_test, predictions_SVM)} \\\n",
    "        \\n\\t\\t Acc: {metrics.accuracy_score(y_test, predictions_SVM)} \\\n",
    "        \\n\\t\\t ROC_AUC: {metrics.roc_auc_score(y_test, predictions_SVM)}')\n",
    "\n",
    "# ROC curve\n",
    "fpr, tpr, thresholds = metrics.roc_curve(y_test, predictions_SVM)\n",
    "roc_auc = metrics.auc(fpr, tpr)\n",
    "plt.figure(figsize=(5, 5))\n",
    "plt.axis('equal')\n",
    "plt.plot(fpr, tpr, lw=2, label=\"AUC = %0.2f\" % roc_auc)\n",
    "plt.plot([0, 1], [0, 1], color=\"gray\", lw=2, linestyle=\"--\")\n",
    "plt.xlim([0.0, 1.0])\n",
    "plt.ylim([0.0, 1.05])\n",
    "plt.xlabel(\"False Positive Rate\")\n",
    "plt.ylabel(\"True Positive Rate\")\n",
    "plt.legend(loc=\"lower right\")\n",
    "plt.show()"
   ]
  },
  {
   "cell_type": "code",
   "execution_count": 29,
   "metadata": {},
   "outputs": [
    {
     "data": {
      "text/plain": [
       "<sklearn.metrics._plot.confusion_matrix.ConfusionMatrixDisplay at 0x126d5143a00>"
      ]
     },
     "execution_count": 29,
     "metadata": {},
     "output_type": "execute_result"
    },
    {
     "data": {
      "image/png": "[encoded data removed]",
      "text/plain": [
       "<Figure size 432x288 with 2 Axes>"
      ]
     },
     "metadata": {
      "needs_background": "light"
     },
     "output_type": "display_data"
    }
   ],
   "source": [
    "cm = metrics.confusion_matrix(y_test, predictions_SVM, labels=SVM.classes_)\n",
    "disp = metrics.ConfusionMatrixDisplay(confusion_matrix=cm,\n",
    "                              display_labels=SVM.classes_)\n",
    "disp.plot()"
   ]
  },
  {
   "cell_type": "code",
   "execution_count": 30,
   "metadata": {},
   "outputs": [],
   "source": [
    "svc_oversampled = generate_perf_report(\n",
    "    X,\n",
    "    y,\n",
    "    name='SVMOversampled',\n",
    "    description='SVM classifier with oversampling',\n",
    "    clf=svm.SVC()\n",
    "     )"
   ]
  },
  {
   "cell_type": "markdown",
   "metadata": {},
   "source": [
    "# Benchmark"
   ]
  },
  {
   "cell_type": "code",
   "execution_count": 32,
   "metadata": {},
   "outputs": [
    {
     "data": {
      "text/html": [
       "<div>\n",
       "<style scoped>\n",
       "    .dataframe tbody tr th:only-of-type {\n",
       "        vertical-align: middle;\n",
       "    }\n",
       "\n",
       "    .dataframe tbody tr th {\n",
       "        vertical-align: top;\n",
       "    }\n",
       "\n",
       "    .dataframe thead th {\n",
       "        text-align: right;\n",
       "    }\n",
       "</style>\n",
       "<table border=\"1\" class=\"dataframe\">\n",
       "  <thead>\n",
       "    <tr style=\"text-align: right;\">\n",
       "      <th></th>\n",
       "      <th>Date</th>\n",
       "      <th>Description</th>\n",
       "      <th>Test Size</th>\n",
       "      <th>Precision</th>\n",
       "      <th>Recall</th>\n",
       "      <th>F1 Score</th>\n",
       "      <th>Accuracy</th>\n",
       "      <th>Roc_auc_score</th>\n",
       "      <th>Confusion Matrix</th>\n",
       "      <th>Roc curve</th>\n",
       "    </tr>\n",
       "  </thead>\n",
       "  <tbody>\n",
       "    <tr>\n",
       "      <th>NaiveBayes</th>\n",
       "      <td>2022-08-20 15:57:44</td>\n",
       "      <td>basic NB classifier</td>\n",
       "      <td>0.15</td>\n",
       "      <td>0.857143</td>\n",
       "      <td>0.048387</td>\n",
       "      <td>0.091603</td>\n",
       "      <td>0.921035</td>\n",
       "      <td>0.523832</td>\n",
       "      <td>[[1382, 1], [118, 6]]</td>\n",
       "      <td>([0.0, 0.0007230657989877079, 1.0], [0.0, 0.04...</td>\n",
       "    </tr>\n",
       "    <tr>\n",
       "      <th>NaiveBayesOversampled</th>\n",
       "      <td>2022-08-20 15:57:52</td>\n",
       "      <td>NB classifier with oversampling</td>\n",
       "      <td>0.15</td>\n",
       "      <td>0.854499</td>\n",
       "      <td>0.966089</td>\n",
       "      <td>0.906874</td>\n",
       "      <td>0.900254</td>\n",
       "      <td>0.899894</td>\n",
       "      <td>[[1143, 228], [47, 1339]]</td>\n",
       "      <td>([0.0, 0.16630196936542668, 1.0], [0.0, 0.9660...</td>\n",
       "    </tr>\n",
       "    <tr>\n",
       "      <th>SVC</th>\n",
       "      <td>2022-08-20 15:57:48</td>\n",
       "      <td>basic SVM</td>\n",
       "      <td>0.15</td>\n",
       "      <td>0.789474</td>\n",
       "      <td>0.114504</td>\n",
       "      <td>0.2</td>\n",
       "      <td>0.920372</td>\n",
       "      <td>0.555798</td>\n",
       "      <td>[[1372, 4], [116, 15]]</td>\n",
       "      <td>([0.0, 0.0029069767441860465, 1.0], [0.0, 0.11...</td>\n",
       "    </tr>\n",
       "    <tr>\n",
       "      <th>SVMOversampled</th>\n",
       "      <td>2022-08-20 15:58:12</td>\n",
       "      <td>SVM classifier with oversampling</td>\n",
       "      <td>0.15</td>\n",
       "      <td>0.976612</td>\n",
       "      <td>1.0</td>\n",
       "      <td>0.988168</td>\n",
       "      <td>0.98803</td>\n",
       "      <td>0.988035</td>\n",
       "      <td>[[1346, 33], [0, 1378]]</td>\n",
       "      <td>([0.0, 0.023930384336475707, 1.0], [0.0, 1.0, ...</td>\n",
       "    </tr>\n",
       "  </tbody>\n",
       "</table>\n",
       "</div>"
      ],
      "text/plain": [
       "                                      Date                       Description  \\\n",
       "NaiveBayes             2022-08-20 15:57:44               basic NB classifier   \n",
       "NaiveBayesOversampled  2022-08-20 15:57:52   NB classifier with oversampling   \n",
       "SVC                    2022-08-20 15:57:48                         basic SVM   \n",
       "SVMOversampled         2022-08-20 15:58:12  SVM classifier with oversampling   \n",
       "\n",
       "                      Test Size Precision    Recall  F1 Score  Accuracy  \\\n",
       "NaiveBayes                 0.15  0.857143  0.048387  0.091603  0.921035   \n",
       "NaiveBayesOversampled      0.15  0.854499  0.966089  0.906874  0.900254   \n",
       "SVC                        0.15  0.789474  0.114504       0.2  0.920372   \n",
       "SVMOversampled             0.15  0.976612       1.0  0.988168   0.98803   \n",
       "\n",
       "                      Roc_auc_score           Confusion Matrix  \\\n",
       "NaiveBayes                 0.523832      [[1382, 1], [118, 6]]   \n",
       "NaiveBayesOversampled      0.899894  [[1143, 228], [47, 1339]]   \n",
       "SVC                        0.555798     [[1372, 4], [116, 15]]   \n",
       "SVMOversampled             0.988035    [[1346, 33], [0, 1378]]   \n",
       "\n",
       "                                                               Roc curve  \n",
       "NaiveBayes             ([0.0, 0.0007230657989877079, 1.0], [0.0, 0.04...  \n",
       "NaiveBayesOversampled  ([0.0, 0.16630196936542668, 1.0], [0.0, 0.9660...  \n",
       "SVC                    ([0.0, 0.0029069767441860465, 1.0], [0.0, 0.11...  \n",
       "SVMOversampled         ([0.0, 0.023930384336475707, 1.0], [0.0, 1.0, ...  "
      ]
     },
     "execution_count": 32,
     "metadata": {},
     "output_type": "execute_result"
    }
   ],
   "source": [
    "pd.concat([naive, naive_oversampled, svc, svc_oversampled], axis=1).T"
   ]
  },
  {
   "cell_type": "markdown",
   "metadata": {},
   "source": [
    "Outcomes: With oversampling SVM is almost ideall."
   ]
  }
 ],
 "metadata": {
  "kernelspec": {
   "display_name": "Python 3.9.12 ('venv': venv)",
   "language": "python",
   "name": "python3"
  },
  "language_info": {
   "codemirror_mode": {
    "name": "ipython",
    "version": 3
   },
   "file_extension": ".py",
   "mimetype": "text/x-python",
   "name": "python",
   "nbconvert_exporter": "python",
   "pygments_lexer": "ipython3",
   "version": "3.9.12"
  },
  "orig_nbformat": 4,
  "vscode": {
   "interpreter": {
    "hash": "075987e119c23eeae02c9b37e4e35603eda7102057cef8bf344d385806e7aa0c"
   }
  }
 },
 "nbformat": 4,
 "nbformat_minor": 2
}
